{
 "cells": [
  {
   "cell_type": "code",
   "execution_count": 1,
   "id": "f4f2c7c8",
   "metadata": {},
   "outputs": [],
   "source": [
    "%load_ext autoreload\n",
    "%autoreload 2"
   ]
  },
  {
   "cell_type": "code",
   "execution_count": 2,
   "id": "52a01d4c",
   "metadata": {},
   "outputs": [],
   "source": [
    "import sys\n",
    "\n",
    "sys.path.insert(0,\"../\")"
   ]
  },
  {
   "cell_type": "code",
   "execution_count": 3,
   "id": "46cc0c24",
   "metadata": {},
   "outputs": [],
   "source": [
    "# Import\n",
    "\n",
    "import json"
   ]
  },
  {
   "cell_type": "code",
   "execution_count": 4,
   "id": "f76b4f61",
   "metadata": {},
   "outputs": [],
   "source": [
    "import pandas as pd\n",
    "\n",
    "share_price_path = \"/Users/agrimrustagi/Desktop/Projects/stock-newz/Data/share_prices/20250709_001901.pkl\"\n",
    "financials_path = \"/Users/agrimrustagi/Desktop/Projects/stock-newz/Data/stock_financials/20250709_001901.pkl\"\n",
    "\n",
    "dict_share_prices = pd.read_pickle(share_price_path)\n",
    "dict_financials = pd.read_pickle(financials_path)"
   ]
  },
  {
   "cell_type": "code",
   "execution_count": 5,
   "id": "198cd0cf",
   "metadata": {},
   "outputs": [],
   "source": [
    "quarterly_shareholding_pattern = pd.DataFrame()\n",
    "yearly_shareholding_pattern = pd.DataFrame()\n",
    "\n",
    "\n",
    "for stock in dict_financials.keys():\n",
    "    for analysis_tabs in dict_financials[stock]:\n",
    "        if analysis_tabs[\"header\"] == \"Shareholding Pattern\":\n",
    "            quarterly_table = analysis_tabs[\"tables\"][0]\n",
    "            quarterly_table[\"stock\"] = stock\n",
    "            quarterly_shareholding_pattern = pd.concat([quarterly_shareholding_pattern, quarterly_table])\n",
    "\n",
    "            yearly_table = analysis_tabs[\"tables\"][1]\n",
    "            yearly_table[\"stock\"] = stock\n",
    "            yearly_shareholding_pattern = pd.concat([yearly_shareholding_pattern, yearly_table])\n"
   ]
  },
  {
   "cell_type": "code",
   "execution_count": 6,
   "id": "728203a8",
   "metadata": {},
   "outputs": [],
   "source": [
    "quarterly_shareholding_pattern.rename(columns={\"Unnamed: 0\": \"cap_group\"}, inplace=True)\n",
    "yearly_shareholding_pattern.rename(columns={\"Unnamed: 0\": \"cap_group\"}, inplace=True)"
   ]
  },
  {
   "cell_type": "code",
   "execution_count": 7,
   "id": "186fc073",
   "metadata": {},
   "outputs": [],
   "source": [
    "quarter_fii = quarterly_shareholding_pattern[quarterly_shareholding_pattern[\"cap_group\"] == 'FIIs\\xa0+']"
   ]
  },
  {
   "cell_type": "code",
   "execution_count": 8,
   "id": "c50aad25",
   "metadata": {},
   "outputs": [
    {
     "data": {
      "text/plain": [
       "Index(['cap_group', 'Sep 2022', 'Dec 2022', 'Mar 2023', 'Jun 2023', 'Sep 2023',\n",
       "       'Dec 2023', 'Mar 2024', 'Jun 2024', 'Sep 2024', 'Dec 2024', 'Mar 2025',\n",
       "       'May 2025', 'stock', 'Jun 2022', 'Apr 2025', 'Jun 2025', 'Jul 2025',\n",
       "       'Mar 2022'],\n",
       "      dtype='object')"
      ]
     },
     "execution_count": 8,
     "metadata": {},
     "output_type": "execute_result"
    }
   ],
   "source": [
    "quarter_fii.columns"
   ]
  },
  {
   "cell_type": "code",
   "execution_count": 20,
   "id": "ad08d094",
   "metadata": {},
   "outputs": [],
   "source": [
    "from src.helper import *\n",
    "\n",
    "coff_ls = []\n",
    "stock_ls = []\n",
    "\n",
    "for stock in quarter_fii.stock.unique():\n",
    "    coff, df = stock_growth_rate(quarter_fii, stock)\n",
    "    if coff > 0:\n",
    "        coff_ls.append(coff)\n",
    "        stock_ls.append(stock)\n",
    "        #plot(df, f\"{stock} - Growth Rate: {growth_rate:.5f}\")\n"
   ]
  },
  {
   "cell_type": "code",
   "execution_count": null,
   "id": "ac44d759",
   "metadata": {},
   "outputs": [],
   "source": [
    "# Pair each stock with its corresponding growth rate\n",
    "stock_growth_pairs = list(zip(coff_ls, stock_ls))\n",
    "\n",
    "# Sort the list in descending order based on growth rate\n",
    "sorted_pairs = sorted(stock_growth_pairs, key=lambda x: x[0], reverse=True)\n",
    "\n",
    "# Get the top 20 stocks\n",
    "top_40 = sorted_pairs[:40]\n",
    "\n",
    "# Print or extract the top 20 stocks and their growth rates\n",
    "for growth, stock in top_40:\n",
    "    print(f\"{stock}: {growth:.2f}%\")\n",
    "    coff, df = stock_growth_rate(quarter_fii, stock)\n",
    "    plot(df, f\"{stock} - Growth Rate: {growth:.5f}\")\n",
    "    "
   ]
  }
 ],
 "metadata": {
  "kernelspec": {
   "display_name": "newz-env",
   "language": "python",
   "name": "python3"
  },
  "language_info": {
   "codemirror_mode": {
    "name": "ipython",
    "version": 3
   },
   "file_extension": ".py",
   "mimetype": "text/x-python",
   "name": "python",
   "nbconvert_exporter": "python",
   "pygments_lexer": "ipython3",
   "version": "3.11.9"
  }
 },
 "nbformat": 4,
 "nbformat_minor": 5
}
